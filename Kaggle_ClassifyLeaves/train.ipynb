{
 "cells": [
  {
   "cell_type": "code",
   "execution_count": 2,
   "id": "d483b304-e000-4f22-bbce-f385c5decfad",
   "metadata": {},
   "outputs": [],
   "source": [
    "import torch\n",
    "import torch.nn as nn\n",
    "from torchvision.models.resnet import *\n",
    "import numpy as np\n",
    "import pandas as pd\n",
    "import os\n",
    "from torch.utils.data import DataLoader, Dataset\n",
    "from torchvision import transforms\n",
    "from PIL import Image\n",
    "from tqdm import tqdm"
   ]
  },
  {
   "cell_type": "code",
   "execution_count": 3,
   "id": "a195f6c3-b80d-4c98-acb3-aa4b33dbbb6a",
   "metadata": {},
   "outputs": [],
   "source": [
    "root = \"\"\n",
    "train_file = os.path.join(root, 'train.csv')\n",
    "test_file = os.path.join(root, 'test.csv')\n",
    "save_path = 'models'"
   ]
  },
  {
   "cell_type": "code",
   "execution_count": 13,
   "id": "e33a2c97-c56f-4cc2-9284-d49e65eb4663",
   "metadata": {},
   "outputs": [],
   "source": [
    "def check_image():\n",
    "    \"\"\"\n",
    "    检查图片是否全部是(224, 224, 3)\n",
    "    \"\"\"\n",
    "    for i in range(0, 27153):\n",
    "        img_path = os.path.join(file_path, str(i) + '.jpg')\n",
    "        img = Image.open(img_path)\n",
    "        if img.size != (224, 224) or img.mode != 'RGB':\n",
    "            return False\n",
    "    return True\n",
    "\n",
    "def pre_process(df, dictionary=None):\n",
    "    \"\"\"\n",
    "    如果没有传入字典，将自动生成：\n",
    "        对传入的df的label列用整数替换种类字符\n",
    "    如果传入字典，将使用已有的字典：\n",
    "        对传入的df的label列用种类字符代替整数\n",
    "    \"\"\"\n",
    "    if dictionary is not None:\n",
    "        # 用在已经生成了测试结果，把预测结果转换为种类名称时。\n",
    "        for id, kinds in dictionary.items():\n",
    "            if isinstance(kinds, int):\n",
    "                continue\n",
    "            df.loc[df['label'] == id, 'label'] = kinds\n",
    "        return df\n",
    "    else:\n",
    "        # 用在将训练集dataframe的label列转换成整数，然后生成字典。\n",
    "        cnt = 0\n",
    "        dictionary = {}\n",
    "        for i in df['label'].unique():\n",
    "            dictionary[i] = cnt\n",
    "            dictionary[cnt] = i\n",
    "            cnt += 1\n",
    "        for i in df['label'].unique():\n",
    "            df.loc[df['label'] == i, 'label'] = dictionary[i]\n",
    "        return df, dictionary\n",
    "\n",
    "class LeavesDataset(Dataset):\n",
    "\n",
    "    def __init__(self, file_path, df=None, mode='train'):\n",
    "        self.file_path = file_path\n",
    "        self.mode = mode\n",
    "        self.transform = [transforms.ToTensor()]\n",
    "\n",
    "        if mode == 'train':\n",
    "            self.img_label = np.zeros(18353, dtype=np.int64)\n",
    "            self.img_label[:] = df.iloc[:, 1].values\n",
    "            self.transform.insert(0, transforms.RandomHorizontalFlip(p=0.5))\n",
    "\n",
    "        self.transform = transforms.Compose(self.transform)\n",
    "\n",
    "    def __len__(self):\n",
    "        if self.mode == 'train':\n",
    "            return 18353\n",
    "        else:\n",
    "            return 8800\n",
    "\n",
    "    def __getitem__(self, index):\n",
    "\n",
    "        # 读取图像\n",
    "        if self.mode == 'test':\n",
    "            index += 18353\n",
    "        img_name = str(index) + '.jpg'\n",
    "        img_path = os.path.join(self.file_path, img_name)\n",
    "        img = Image.open(img_path)\n",
    "\n",
    "        # 图像转换(增广)\n",
    "        img = self.transform(img)\n",
    "\n",
    "        if self.mode == 'test':\n",
    "            return img\n",
    "        else:\n",
    "            return img, self.img_label[index]\n",
    "\n",
    "# 是否要冻住模型的前面一些层\n",
    "def set_parameter_requires_grad(model, feature_extracting):\n",
    "    if feature_extracting:\n",
    "        model = model\n",
    "        for param in model.parameters():\n",
    "            param.requires_grad = False\n",
    "\n",
    "# resnet50模型\n",
    "def res_model(num_classes, feature_extract = False, pretrained=True):\n",
    "\n",
    "    net_ft = resnet50(pretrained=pretrained)\n",
    "    set_parameter_requires_grad(net_ft, feature_extract)\n",
    "    num_ftrs = net_ft.fc.in_features\n",
    "    net_ft.fc = nn.Linear(num_ftrs, num_classes)\n",
    "\n",
    "    return net_ft\n",
    "\n",
    "def train(net, loss_fn, optimizer, train_iter, num_epoch, device):\n",
    "\n",
    "    net.to(device)\n",
    "    len_iter = len(train_iter)\n",
    "\n",
    "    for epoch in range(46, num_epoch):\n",
    "\n",
    "        print('training epoch: ', epoch)\n",
    "        net.train()\n",
    "        acc_sum = 0.0\n",
    "        loss_sum = 0.0\n",
    "        for X, y in tqdm(train_iter):\n",
    "\n",
    "            optimizer.zero_grad()\n",
    "            X = X.to(device)\n",
    "            y = y.to(device)\n",
    "            output = net(X)\n",
    "            loss = loss_fn(output, y)\n",
    "            loss.backward()\n",
    "            optimizer.step()\n",
    "            acc = (output.argmax(dim=1) == y).float().mean()\n",
    "\n",
    "            acc_sum += acc\n",
    "            loss_sum += loss\n",
    "        train_loss = loss_sum / len_iter\n",
    "        train_acc = acc_sum / len_iter\n",
    "\n",
    "        print(f\"[ Train | {epoch + 1:03d}/{num_epoch:03d} ] loss = {train_loss:.5f}, acc = {train_acc:.5f}\")\n",
    "        # 从38个epoch时（0-36正常，37中断），训练中断了。\n",
    "        model_path = os.path.join(save_path, 'model_epoch_{}.pth'.format(epoch))\n",
    "        torch.save(net.state_dict(), model_path)\n"
   ]
  },
  {
   "cell_type": "code",
   "execution_count": 14,
   "id": "5aafbed4-6304-4568-9d0b-23fd826e7d84",
   "metadata": {},
   "outputs": [
    {
     "name": "stdout",
     "output_type": "stream",
     "text": [
      "training epoch:  46\n"
     ]
    },
    {
     "name": "stderr",
     "output_type": "stream",
     "text": [
      "100%|██████████| 2295/2295 [03:11<00:00, 12.01it/s]\n"
     ]
    },
    {
     "name": "stdout",
     "output_type": "stream",
     "text": [
      "[ Train | 047/060 ] loss = 0.27148, acc = 0.93105\n",
      "training epoch:  47\n"
     ]
    },
    {
     "name": "stderr",
     "output_type": "stream",
     "text": [
      "100%|██████████| 2295/2295 [03:11<00:00, 12.00it/s]\n"
     ]
    },
    {
     "name": "stdout",
     "output_type": "stream",
     "text": [
      "[ Train | 048/060 ] loss = 0.25151, acc = 0.93813\n",
      "training epoch:  48\n"
     ]
    },
    {
     "name": "stderr",
     "output_type": "stream",
     "text": [
      "100%|██████████| 2295/2295 [03:11<00:00, 11.97it/s]\n"
     ]
    },
    {
     "name": "stdout",
     "output_type": "stream",
     "text": [
      "[ Train | 049/060 ] loss = 0.25479, acc = 0.93568\n",
      "training epoch:  49\n"
     ]
    },
    {
     "name": "stderr",
     "output_type": "stream",
     "text": [
      "100%|██████████| 2295/2295 [03:15<00:00, 11.73it/s]\n"
     ]
    },
    {
     "name": "stdout",
     "output_type": "stream",
     "text": [
      "[ Train | 050/060 ] loss = 0.25044, acc = 0.93660\n",
      "training epoch:  50\n"
     ]
    },
    {
     "name": "stderr",
     "output_type": "stream",
     "text": [
      "100%|██████████| 2295/2295 [03:15<00:00, 11.71it/s]\n"
     ]
    },
    {
     "name": "stdout",
     "output_type": "stream",
     "text": [
      "[ Train | 051/060 ] loss = 0.24766, acc = 0.93922\n",
      "training epoch:  51\n"
     ]
    },
    {
     "name": "stderr",
     "output_type": "stream",
     "text": [
      "100%|██████████| 2295/2295 [03:13<00:00, 11.87it/s]\n"
     ]
    },
    {
     "name": "stdout",
     "output_type": "stream",
     "text": [
      "[ Train | 052/060 ] loss = 0.24331, acc = 0.94194\n",
      "training epoch:  52\n"
     ]
    },
    {
     "name": "stderr",
     "output_type": "stream",
     "text": [
      "100%|██████████| 2295/2295 [03:23<00:00, 11.25it/s]\n"
     ]
    },
    {
     "name": "stdout",
     "output_type": "stream",
     "text": [
      "[ Train | 053/060 ] loss = 0.24643, acc = 0.94047\n",
      "training epoch:  53\n"
     ]
    },
    {
     "name": "stderr",
     "output_type": "stream",
     "text": [
      "100%|██████████| 2295/2295 [03:32<00:00, 10.80it/s]\n"
     ]
    },
    {
     "name": "stdout",
     "output_type": "stream",
     "text": [
      "[ Train | 054/060 ] loss = 0.23809, acc = 0.94047\n",
      "training epoch:  54\n"
     ]
    },
    {
     "name": "stderr",
     "output_type": "stream",
     "text": [
      "100%|██████████| 2295/2295 [03:30<00:00, 10.92it/s]\n"
     ]
    },
    {
     "name": "stdout",
     "output_type": "stream",
     "text": [
      "[ Train | 055/060 ] loss = 0.23941, acc = 0.94183\n",
      "training epoch:  55\n"
     ]
    },
    {
     "name": "stderr",
     "output_type": "stream",
     "text": [
      "100%|██████████| 2295/2295 [03:21<00:00, 11.38it/s]\n"
     ]
    },
    {
     "name": "stdout",
     "output_type": "stream",
     "text": [
      "[ Train | 056/060 ] loss = 0.24715, acc = 0.93949\n",
      "training epoch:  56\n"
     ]
    },
    {
     "name": "stderr",
     "output_type": "stream",
     "text": [
      "100%|██████████| 2295/2295 [03:23<00:00, 11.30it/s]\n"
     ]
    },
    {
     "name": "stdout",
     "output_type": "stream",
     "text": [
      "[ Train | 057/060 ] loss = 0.23317, acc = 0.94319\n",
      "training epoch:  57\n"
     ]
    },
    {
     "name": "stderr",
     "output_type": "stream",
     "text": [
      "100%|██████████| 2295/2295 [03:13<00:00, 11.88it/s]\n"
     ]
    },
    {
     "name": "stdout",
     "output_type": "stream",
     "text": [
      "[ Train | 058/060 ] loss = 0.24196, acc = 0.93965\n",
      "training epoch:  58\n"
     ]
    },
    {
     "name": "stderr",
     "output_type": "stream",
     "text": [
      "100%|██████████| 2295/2295 [03:03<00:00, 12.53it/s]\n"
     ]
    },
    {
     "name": "stdout",
     "output_type": "stream",
     "text": [
      "[ Train | 059/060 ] loss = 0.23299, acc = 0.94510\n",
      "training epoch:  59\n"
     ]
    },
    {
     "name": "stderr",
     "output_type": "stream",
     "text": [
      "100%|██████████| 2295/2295 [03:03<00:00, 12.49it/s]\n"
     ]
    },
    {
     "name": "stdout",
     "output_type": "stream",
     "text": [
      "[ Train | 060/060 ] loss = 0.23903, acc = 0.94346\n"
     ]
    }
   ],
   "source": [
    "if __name__ == \"__main__\":\n",
    "\n",
    "    # 超参数\n",
    "    batch_size, lr, weight_decay, num_epoch = 8, 2e-4, 0.001, 60\n",
    "\n",
    "    # device\n",
    "    device = 'cuda:0'\n",
    "\n",
    "    # 网络 resnet50\n",
    "    net = res_model(176, pretrained=True, feature_extract=False)\n",
    "    # 中断了一次，从epoch36继续训练\n",
    "    net.load_state_dict(torch.load('models/model_epoch_45.pth'))\n",
    "    \n",
    "    # 数据预处理\n",
    "    train_label = pd.read_csv(train_file)\n",
    "    train_label, dictionary = pre_process(train_label)\n",
    "\n",
    "    # 数据集\n",
    "    file_path = 'images'\n",
    "    train_set = LeavesDataset(file_path, train_label, mode='train')\n",
    "    train_iter = DataLoader(train_set, batch_size=batch_size, shuffle=True, num_workers=5)\n",
    "\n",
    "    # train\n",
    "    loss_fn = nn.CrossEntropyLoss()\n",
    "    optimizer = torch.optim.Adam(net.parameters(), lr=lr, weight_decay=weight_decay)\n",
    "    train(net, loss_fn, optimizer, train_iter, num_epoch, device)"
   ]
  }
 ],
 "metadata": {
  "kernelspec": {
   "display_name": "myconda",
   "language": "python",
   "name": "myconda"
  },
  "language_info": {
   "codemirror_mode": {
    "name": "ipython",
    "version": 3
   },
   "file_extension": ".py",
   "mimetype": "text/x-python",
   "name": "python",
   "nbconvert_exporter": "python",
   "pygments_lexer": "ipython3",
   "version": "3.7.10"
  }
 },
 "nbformat": 4,
 "nbformat_minor": 5
}
