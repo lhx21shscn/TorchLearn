{
 "cells": [
  {
   "cell_type": "code",
   "execution_count": 7,
   "id": "2863eadb-3720-4d0a-9c84-6720e0609684",
   "metadata": {},
   "outputs": [],
   "source": [
    "import torch\n",
    "import torch.nn as nn\n",
    "from torchvision.models.resnet import *\n",
    "import numpy as np\n",
    "import pandas as pd\n",
    "import os\n",
    "from torch.utils.data import DataLoader, Dataset\n",
    "from torchvision import transforms\n",
    "from PIL import Image\n",
    "from tqdm import tqdm"
   ]
  },
  {
   "cell_type": "code",
   "execution_count": 16,
   "id": "f66f5047-7b7a-45f2-a0b2-bc2fd60b665d",
   "metadata": {},
   "outputs": [],
   "source": [
    "# 可以修改的参数是epoch, epoch=x代表选取第x次迭代产生的模型\n",
    "root = ''\n",
    "train_file = os.path.join(root, 'train.csv')\n",
    "test_file = os.path.join(root, 'test.csv')\n",
    "net_path, epoch = 'models', 45\n",
    "net_path = os.path.join(net_path, 'model_epoch_' + str(epoch) + '.pth')\n",
    "save_file = './submission.csv'"
   ]
  },
  {
   "cell_type": "code",
   "execution_count": 9,
   "id": "fdcc5bcb-9105-4e19-86f0-be924c9f7d9f",
   "metadata": {},
   "outputs": [],
   "source": [
    "def pre_process(df, dictionary=None):\n",
    "    \"\"\"\n",
    "    如果没有传入字典，将自动生成：\n",
    "        对传入的df的label列用整数替换种类字符\n",
    "    如果传入字典，将使用已有的字典：\n",
    "        对传入的df的label列用种类字符代替整数\n",
    "    \"\"\"\n",
    "    if dictionary is not None:\n",
    "        # 用在已经生成了测试结果，把预测结果转换为种类名称时。\n",
    "        for id, kinds in dictionary.items():\n",
    "            if isinstance(kinds, int):\n",
    "                continue\n",
    "            df.loc[df['label'] == id, 'label'] = kinds\n",
    "        return df\n",
    "    else:\n",
    "        # 用在将训练集dataframe的label列转换成整数，然后生成字典。\n",
    "        cnt = 0\n",
    "        dictionary = {}\n",
    "        for i in df['label'].unique():\n",
    "            dictionary[i] = cnt\n",
    "            dictionary[cnt] = i\n",
    "            cnt += 1\n",
    "        for i in df['label'].unique():\n",
    "            df.loc[df['label'] == i, 'label'] = dictionary[i]\n",
    "        return df, dictionary\n",
    "\n",
    "class LeavesDataset(Dataset):\n",
    "\n",
    "    def __init__(self, file_path, df=None, mode='train'):\n",
    "        self.file_path = file_path\n",
    "        self.mode = mode\n",
    "        self.transform = [transforms.ToTensor()]\n",
    "\n",
    "        if mode == 'train':\n",
    "            self.img_label = np.zeros(18353, dtype=np.int64)\n",
    "            self.img_label[:] = df.iloc[:, 1].values\n",
    "            self.transform.insert(0, transforms.RandomHorizontalFlip(p=0.5))\n",
    "\n",
    "        self.transform = transforms.Compose(self.transform)\n",
    "\n",
    "    def __len__(self):\n",
    "        if self.mode == 'train':\n",
    "            return 18353\n",
    "        else:\n",
    "            return 8800\n",
    "\n",
    "    def __getitem__(self, index):\n",
    "\n",
    "        # 读取图像\n",
    "        if self.mode == 'test':\n",
    "            index += 18353\n",
    "        img_name = str(index) + '.jpg'\n",
    "        img_path = os.path.join(self.file_path, img_name)\n",
    "        img = Image.open(img_path)\n",
    "\n",
    "        # 图像转换(增广)\n",
    "        img = self.transform(img)\n",
    "\n",
    "        if self.mode == 'test':\n",
    "            return img\n",
    "        else:\n",
    "            return img, self.img_label[index]\n",
    "\n",
    "# 是否要冻住模型的前面一些层\n",
    "def set_parameter_requires_grad(model, feature_extracting):\n",
    "    if feature_extracting:\n",
    "        model = model\n",
    "        for param in model.parameters():\n",
    "            param.requires_grad = False\n",
    "\n",
    "# resnet50模型\n",
    "def res_model(num_classes, feature_extract = False, pretrained=True):\n",
    "\n",
    "    net_ft = resnet50(pretrained=pretrained)\n",
    "    set_parameter_requires_grad(net_ft, feature_extract)\n",
    "    num_ftrs = net_ft.fc.in_features\n",
    "    net_ft.fc = nn.Linear(num_ftrs, num_classes)\n",
    "\n",
    "    return net_ft\n",
    "\n",
    "def test(test_iter, device, dictionary):\n",
    "    predict = []\n",
    "    \n",
    "    for X in tqdm(test_iter):\n",
    "        output = net(X.to(device))\n",
    "        predict.extend(torch.argmax(output, dim=-1).cpu().numpy().tolist())\n",
    "\n",
    "    pred = []\n",
    "    for id in predict:\n",
    "        pred.append(dictionary[id])\n",
    "\n",
    "    return pred"
   ]
  },
  {
   "cell_type": "code",
   "execution_count": 17,
   "id": "82ff8e7f-8cfc-41e6-89ab-e163b3608e7c",
   "metadata": {},
   "outputs": [
    {
     "name": "stderr",
     "output_type": "stream",
     "text": [
      "100%|██████████| 1100/1100 [00:30<00:00, 36.14it/s]"
     ]
    },
    {
     "name": "stdout",
     "output_type": "stream",
     "text": [
      "Done!!!!!!!!!!!!!!!!!!!!!!!!!!!\n"
     ]
    },
    {
     "name": "stderr",
     "output_type": "stream",
     "text": [
      "\n"
     ]
    }
   ],
   "source": [
    "if __name__ == '__main__':\n",
    "\n",
    "    # 设备\n",
    "    device = 'cuda:0'\n",
    "    \n",
    "    # 网络\n",
    "    net = res_model(176)\n",
    "    net.to(device)\n",
    "    net.load_state_dict(torch.load(net_path))\n",
    "    \n",
    "    # test\n",
    "    train_label = pd.read_csv(train_file)\n",
    "    train_label, dictionary = pre_process(train_label)\n",
    "    test_df = pd.read_csv(test_file)\n",
    "        \n",
    "    test_set = LeavesDataset('images', mode='test')\n",
    "    test_iter = DataLoader(test_set, shuffle=False, batch_size=8, num_workers=5)\n",
    "    predict = test(test_iter, device, dictionary)\n",
    "    \n",
    "    test_df['label'] = pd.Series(predict)\n",
    "    submission = pd.concat([test_df['image'], test_df['label']], axis=1)\n",
    "    submission.to_csv(save_file, index=False)\n",
    "    print(\"Done!!!!!!!!!!!!!!!!!!!!!!!!!!!\")"
   ]
  },
  {
   "cell_type": "code",
   "execution_count": null,
   "id": "a425e703-d844-4dcc-bfd1-7badffbf9b35",
   "metadata": {},
   "outputs": [],
   "source": []
  }
 ],
 "metadata": {
  "kernelspec": {
   "display_name": "myconda",
   "language": "python",
   "name": "myconda"
  },
  "language_info": {
   "codemirror_mode": {
    "name": "ipython",
    "version": 3
   },
   "file_extension": ".py",
   "mimetype": "text/x-python",
   "name": "python",
   "nbconvert_exporter": "python",
   "pygments_lexer": "ipython3",
   "version": "3.7.10"
  }
 },
 "nbformat": 4,
 "nbformat_minor": 5
}
